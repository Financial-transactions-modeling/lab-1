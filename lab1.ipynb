{
 "cells": [
  {
   "cell_type": "code",
   "execution_count": 63,
   "id": "computational-party",
   "metadata": {
    "id": "suffering-stroke"
   },
   "outputs": [],
   "source": [
    "import pandas as pd\n",
    "import yfinance as yf\n",
    "import numpy as np\n",
    "import matplotlib.pyplot as plt\n",
    "import scipy.stats"
   ]
  },
  {
   "cell_type": "markdown",
   "id": "interstate-costa",
   "metadata": {
    "id": "ALRJ9srgLIF3"
   },
   "source": [
    "## 1. Data collection "
   ]
  },
  {
   "cell_type": "code",
   "execution_count": 64,
   "id": "municipal-personality",
   "metadata": {
    "id": "systematic-living"
   },
   "outputs": [],
   "source": [
    "nasdaq = pd.read_excel(\"NASDAQ.xlsx\")\n",
    "tickers = nasdaq['Symbol']\n",
    "tickers_list = list()\n",
    "for ticker in tickers:\n",
    "    tickers_list.append(ticker)"
   ]
  },
  {
   "cell_type": "code",
   "execution_count": 65,
   "id": "respiratory-deputy",
   "metadata": {},
   "outputs": [],
   "source": [
    "#data = yf.download(tickers_list,'2019-01-02','2019-12-31')\n",
    "#data.to_pickle('ticker_data')"
   ]
  },
  {
   "cell_type": "code",
   "execution_count": 66,
   "id": "disabled-alaska",
   "metadata": {
    "colab": {
     "base_uri": "https://localhost:8080/"
    },
    "id": "about-county",
    "outputId": "3a2b3522-2a29-4725-c602-5155b43ccafc"
   },
   "outputs": [],
   "source": [
    "#stock data\n",
    "data = pd.read_pickle('ticker_data')\n",
    "data = data.drop(columns = ['Low', 'High', 'Open', 'Close'])\n",
    "#market index data\n",
    "index = pd.read_csv('index_ixic.csv', sep=\",\")\n",
    "index = index.drop(columns = ['Low', 'High', 'Open', 'Close'])"
   ]
  },
  {
   "cell_type": "code",
   "execution_count": 67,
   "id": "vietnamese-pierre",
   "metadata": {
    "colab": {
     "base_uri": "https://localhost:8080/"
    },
    "id": "stretch-tulsa",
    "outputId": "b1a961b8-a3bc-4d45-ced6-f8c1dad04c5e"
   },
   "outputs": [
    {
     "name": "stderr",
     "output_type": "stream",
     "text": [
      "C:\\Users\\user\\anaconda3\\lib\\site-packages\\pandas\\core\\indexing.py:1720: SettingWithCopyWarning: \n",
      "A value is trying to be set on a copy of a slice from a DataFrame.\n",
      "Try using .loc[row_indexer,col_indexer] = value instead\n",
      "\n",
      "See the caveats in the documentation: https://pandas.pydata.org/pandas-docs/stable/user_guide/indexing.html#returning-a-view-versus-a-copy\n",
      "  self._setitem_single_column(loc, value, pi)\n"
     ]
    },
    {
     "data": {
      "text/plain": [
       "({'2019-11-28'}, (252, 5014), (251, 3))"
      ]
     },
     "execution_count": 67,
     "metadata": {},
     "output_type": "execute_result"
    }
   ],
   "source": [
    "adj_close = data['Adj Close'] # adjusted closing price\n",
    "volume = data['Volume'] # sales volume\n",
    "\n",
    "\n",
    "adj_close.reset_index(level=0, inplace=True) # set index from date to int\n",
    "volume.reset_index(level=0, inplace=True)\n",
    "\n",
    "for i in range(0, len(adj_close['Date'])):\n",
    "    volume.loc[i, 'Date'] = str(volume['Date'][i].date())\n",
    "    adj_close.loc[i, 'Date'] = str(adj_close['Date'][i].date())\n",
    "\n",
    "\n",
    "adj_indexes = set(adj_close['Date'].to_list())\n",
    "ind_indexes = set(index['Date'].to_list())\n",
    "diff = adj_indexes.difference(ind_indexes)\n",
    "diff, adj_close.shape, index.shape"
   ]
  },
  {
   "cell_type": "code",
   "execution_count": 68,
   "id": "excited-guinea",
   "metadata": {
    "id": "revolutionary-imagination"
   },
   "outputs": [],
   "source": [
    "adj_close = adj_close.loc[adj_close['Date'] != '2019-11-28']\n",
    "volume = volume.loc[volume['Date'] != '2019-11-28']\n",
    "\n",
    "#handling missing values\n",
    "adj_close = adj_close.dropna(axis=1, how='any')\n",
    "volume = volume.dropna(axis=1, how='any')\n",
    "\n",
    "#add the index data to the main data\n",
    "adj_close['IXIC'] = index['Adj Close']\n",
    "volume['IXIC'] = index['Volume']\n",
    "\n",
    "#delete last day as ixic is nan\n",
    "adj_close = adj_close.loc[adj_close['Date'] != '2019-12-30']\n",
    "volume = volume.loc[volume['Date'] != '2019-12-30']\n",
    "\n",
    "#reindex after drop\n",
    "adj_close.reset_index(drop=True, inplace=True)"
   ]
  },
  {
   "cell_type": "code",
   "execution_count": 69,
   "id": "demonstrated-interaction",
   "metadata": {
    "id": "consistent-collins"
   },
   "outputs": [],
   "source": [
    "#reduce the number of tickers\n",
    "tickers_to_delete = adj_close.columns.to_list()\n",
    "tickers_to_delete.remove('Date')\n",
    "tickers_to_delete.remove('IXIC')\n",
    "tickers_to_delete = tickers_to_delete[::2]\n",
    "adj_close.drop(tickers_to_delete, inplace=True, axis=1) \n",
    "volume.drop(tickers_to_delete, inplace=True, axis=1) "
   ]
  },
  {
   "cell_type": "markdown",
   "id": "protected-minutes",
   "metadata": {
    "id": "7c_xhXnzLUkt"
   },
   "source": [
    "## 2. Logarithmic returns, expected value and standard deviation estimations\n"
   ]
  },
  {
   "cell_type": "code",
   "execution_count": 70,
   "id": "incorporated-bones",
   "metadata": {
    "id": "skilled-brazilian"
   },
   "outputs": [],
   "source": [
    "# calculate logarithmic returns\n",
    "log_returns = pd.DataFrame(index = adj_close.index, columns = adj_close.columns)\n",
    "log_returns['Date'] = adj_close['Date']\n",
    "tickers = adj_close.columns.to_list()\n",
    "tickers.remove('Date')\n",
    "\n",
    "\n",
    "num_days=len(log_returns['AADR'])\n",
    "for ticker in tickers:\n",
    "    for i in range(1, num_days):\n",
    "        log_returns.loc[i, ticker] = np.log(adj_close.loc[i, ticker]/adj_close.loc[i-1, ticker])\n",
    "#droping first day\n",
    "log_returns = log_returns.dropna(axis=0, how='any')\n",
    "log_returns.reset_index( drop=True, inplace=True) \n"
   ]
  },
  {
   "cell_type": "code",
   "execution_count": 71,
   "id": "entire-fields",
   "metadata": {
    "colab": {
     "base_uri": "https://localhost:8080/",
     "height": 609
    },
    "id": "becoming-representative",
    "outputId": "2b292add-a907-4bfd-a436-55d80bd35a22"
   },
   "outputs": [
    {
     "data": {
      "text/html": [
       "<div>\n",
       "<style scoped>\n",
       "    .dataframe tbody tr th:only-of-type {\n",
       "        vertical-align: middle;\n",
       "    }\n",
       "\n",
       "    .dataframe tbody tr th {\n",
       "        vertical-align: top;\n",
       "    }\n",
       "\n",
       "    .dataframe thead th {\n",
       "        text-align: right;\n",
       "    }\n",
       "</style>\n",
       "<table border=\"1\" class=\"dataframe\">\n",
       "  <thead>\n",
       "    <tr style=\"text-align: right;\">\n",
       "      <th></th>\n",
       "      <th>Date</th>\n",
       "      <th>AADR</th>\n",
       "      <th>AAOI</th>\n",
       "      <th>AAPL</th>\n",
       "      <th>AAXJ</th>\n",
       "      <th>ABEO</th>\n",
       "      <th>ABMD</th>\n",
       "      <th>ABUS</th>\n",
       "      <th>ACB</th>\n",
       "      <th>ACER</th>\n",
       "      <th>...</th>\n",
       "      <th>ZEAL</th>\n",
       "      <th>ZEUS</th>\n",
       "      <th>ZGNX</th>\n",
       "      <th>ZIONO</th>\n",
       "      <th>ZIXI</th>\n",
       "      <th>ZLAB</th>\n",
       "      <th>ZS</th>\n",
       "      <th>ZUMZ</th>\n",
       "      <th>ZYXI</th>\n",
       "      <th>IXIC</th>\n",
       "    </tr>\n",
       "  </thead>\n",
       "  <tbody>\n",
       "    <tr>\n",
       "      <th>0</th>\n",
       "      <td>2019-01-03</td>\n",
       "      <td>-0.011221</td>\n",
       "      <td>-0.053018</td>\n",
       "      <td>-0.104924</td>\n",
       "      <td>-0.0239</td>\n",
       "      <td>-0.060091</td>\n",
       "      <td>-0.025056</td>\n",
       "      <td>-0.059219</td>\n",
       "      <td>-0.019268</td>\n",
       "      <td>-0.05019</td>\n",
       "      <td>...</td>\n",
       "      <td>0.025581</td>\n",
       "      <td>0.005219</td>\n",
       "      <td>0.0</td>\n",
       "      <td>0.001177</td>\n",
       "      <td>0.008525</td>\n",
       "      <td>-0.026814</td>\n",
       "      <td>-0.012385</td>\n",
       "      <td>-0.01334</td>\n",
       "      <td>-0.02452</td>\n",
       "      <td>-0.03084</td>\n",
       "    </tr>\n",
       "    <tr>\n",
       "      <th>1</th>\n",
       "      <td>2019-01-04</td>\n",
       "      <td>0.03813</td>\n",
       "      <td>0.031375</td>\n",
       "      <td>0.041803</td>\n",
       "      <td>0.032423</td>\n",
       "      <td>0.058668</td>\n",
       "      <td>0.036221</td>\n",
       "      <td>0.083912</td>\n",
       "      <td>0.015444</td>\n",
       "      <td>0.052518</td>\n",
       "      <td>...</td>\n",
       "      <td>0.04098</td>\n",
       "      <td>0.067908</td>\n",
       "      <td>0.075212</td>\n",
       "      <td>0.012858</td>\n",
       "      <td>0.011815</td>\n",
       "      <td>0.01327</td>\n",
       "      <td>0.060445</td>\n",
       "      <td>0.024995</td>\n",
       "      <td>0.045068</td>\n",
       "      <td>0.04172</td>\n",
       "    </tr>\n",
       "    <tr>\n",
       "      <th>2</th>\n",
       "      <td>2019-01-07</td>\n",
       "      <td>0.011758</td>\n",
       "      <td>0.008969</td>\n",
       "      <td>-0.002228</td>\n",
       "      <td>0.005954</td>\n",
       "      <td>0.067472</td>\n",
       "      <td>0.00433</td>\n",
       "      <td>0.024098</td>\n",
       "      <td>0.007634</td>\n",
       "      <td>0.071347</td>\n",
       "      <td>...</td>\n",
       "      <td>0.045176</td>\n",
       "      <td>0.036411</td>\n",
       "      <td>0.049797</td>\n",
       "      <td>0.004635</td>\n",
       "      <td>0.010017</td>\n",
       "      <td>0.026907</td>\n",
       "      <td>0.041961</td>\n",
       "      <td>0.046268</td>\n",
       "      <td>0.003384</td>\n",
       "      <td>0.012477</td>\n",
       "    </tr>\n",
       "    <tr>\n",
       "      <th>3</th>\n",
       "      <td>2019-01-08</td>\n",
       "      <td>0.006894</td>\n",
       "      <td>0.020828</td>\n",
       "      <td>0.018884</td>\n",
       "      <td>0.002652</td>\n",
       "      <td>-0.026992</td>\n",
       "      <td>0.011434</td>\n",
       "      <td>-0.036368</td>\n",
       "      <td>-0.044711</td>\n",
       "      <td>0.017601</td>\n",
       "      <td>...</td>\n",
       "      <td>0.005776</td>\n",
       "      <td>0.008754</td>\n",
       "      <td>0.026254</td>\n",
       "      <td>0.013017</td>\n",
       "      <td>0.051792</td>\n",
       "      <td>0.005736</td>\n",
       "      <td>0.009596</td>\n",
       "      <td>0.014327</td>\n",
       "      <td>-0.00678</td>\n",
       "      <td>0.010718</td>\n",
       "    </tr>\n",
       "    <tr>\n",
       "      <th>4</th>\n",
       "      <td>2019-01-09</td>\n",
       "      <td>0.016681</td>\n",
       "      <td>0.006847</td>\n",
       "      <td>0.016839</td>\n",
       "      <td>0.016994</td>\n",
       "      <td>0.0</td>\n",
       "      <td>0.05493</td>\n",
       "      <td>-0.058467</td>\n",
       "      <td>0.080196</td>\n",
       "      <td>0.004246</td>\n",
       "      <td>...</td>\n",
       "      <td>0.019464</td>\n",
       "      <td>0.019563</td>\n",
       "      <td>-0.001804</td>\n",
       "      <td>-0.004193</td>\n",
       "      <td>-0.02233</td>\n",
       "      <td>0.019604</td>\n",
       "      <td>0.020257</td>\n",
       "      <td>0.008499</td>\n",
       "      <td>0.020203</td>\n",
       "      <td>0.008673</td>\n",
       "    </tr>\n",
       "    <tr>\n",
       "      <th>...</th>\n",
       "      <td>...</td>\n",
       "      <td>...</td>\n",
       "      <td>...</td>\n",
       "      <td>...</td>\n",
       "      <td>...</td>\n",
       "      <td>...</td>\n",
       "      <td>...</td>\n",
       "      <td>...</td>\n",
       "      <td>...</td>\n",
       "      <td>...</td>\n",
       "      <td>...</td>\n",
       "      <td>...</td>\n",
       "      <td>...</td>\n",
       "      <td>...</td>\n",
       "      <td>...</td>\n",
       "      <td>...</td>\n",
       "      <td>...</td>\n",
       "      <td>...</td>\n",
       "      <td>...</td>\n",
       "      <td>...</td>\n",
       "      <td>...</td>\n",
       "    </tr>\n",
       "    <tr>\n",
       "      <th>244</th>\n",
       "      <td>2019-12-20</td>\n",
       "      <td>0.008244</td>\n",
       "      <td>-0.016057</td>\n",
       "      <td>-0.002073</td>\n",
       "      <td>0.003156</td>\n",
       "      <td>-0.471605</td>\n",
       "      <td>-0.039365</td>\n",
       "      <td>0.237081</td>\n",
       "      <td>-0.00885</td>\n",
       "      <td>-0.033379</td>\n",
       "      <td>...</td>\n",
       "      <td>0.033544</td>\n",
       "      <td>-0.019242</td>\n",
       "      <td>-0.011079</td>\n",
       "      <td>-0.006804</td>\n",
       "      <td>0.010409</td>\n",
       "      <td>-0.014257</td>\n",
       "      <td>0.025146</td>\n",
       "      <td>-0.014335</td>\n",
       "      <td>-0.048603</td>\n",
       "      <td>0.002316</td>\n",
       "    </tr>\n",
       "    <tr>\n",
       "      <th>245</th>\n",
       "      <td>2019-12-23</td>\n",
       "      <td>0.002423</td>\n",
       "      <td>0.002694</td>\n",
       "      <td>0.016187</td>\n",
       "      <td>0.000411</td>\n",
       "      <td>0.1514</td>\n",
       "      <td>0.045308</td>\n",
       "      <td>-0.049656</td>\n",
       "      <td>-0.112795</td>\n",
       "      <td>0.015544</td>\n",
       "      <td>...</td>\n",
       "      <td>-0.006127</td>\n",
       "      <td>0.023158</td>\n",
       "      <td>0.024477</td>\n",
       "      <td>0.003945</td>\n",
       "      <td>0.056089</td>\n",
       "      <td>0.005115</td>\n",
       "      <td>-0.019733</td>\n",
       "      <td>0.014644</td>\n",
       "      <td>0.044851</td>\n",
       "      <td>0.000808</td>\n",
       "    </tr>\n",
       "    <tr>\n",
       "      <th>246</th>\n",
       "      <td>2019-12-24</td>\n",
       "      <td>0.005199</td>\n",
       "      <td>-0.002694</td>\n",
       "      <td>0.00095</td>\n",
       "      <td>-0.003017</td>\n",
       "      <td>-0.008299</td>\n",
       "      <td>0.010854</td>\n",
       "      <td>0.0</td>\n",
       "      <td>-0.01</td>\n",
       "      <td>0.020357</td>\n",
       "      <td>...</td>\n",
       "      <td>0.008111</td>\n",
       "      <td>0.002231</td>\n",
       "      <td>-0.005262</td>\n",
       "      <td>-0.001433</td>\n",
       "      <td>-0.019775</td>\n",
       "      <td>-0.008454</td>\n",
       "      <td>-0.008967</td>\n",
       "      <td>-0.001858</td>\n",
       "      <td>0.021079</td>\n",
       "      <td>0.007734</td>\n",
       "    </tr>\n",
       "    <tr>\n",
       "      <th>247</th>\n",
       "      <td>2019-12-26</td>\n",
       "      <td>0.00554</td>\n",
       "      <td>0.043121</td>\n",
       "      <td>0.019646</td>\n",
       "      <td>0.006161</td>\n",
       "      <td>0.0</td>\n",
       "      <td>-0.007515</td>\n",
       "      <td>-0.048427</td>\n",
       "      <td>0.005013</td>\n",
       "      <td>-0.012674</td>\n",
       "      <td>...</td>\n",
       "      <td>0.03578</td>\n",
       "      <td>0.005556</td>\n",
       "      <td>-0.009086</td>\n",
       "      <td>-0.009363</td>\n",
       "      <td>-0.028946</td>\n",
       "      <td>-0.016602</td>\n",
       "      <td>0.008759</td>\n",
       "      <td>0.026603</td>\n",
       "      <td>-0.013589</td>\n",
       "      <td>-0.001749</td>\n",
       "    </tr>\n",
       "    <tr>\n",
       "      <th>248</th>\n",
       "      <td>2019-12-27</td>\n",
       "      <td>0.00386</td>\n",
       "      <td>-0.007782</td>\n",
       "      <td>-0.00038</td>\n",
       "      <td>0.005988</td>\n",
       "      <td>-0.051293</td>\n",
       "      <td>-0.010227</td>\n",
       "      <td>-0.050892</td>\n",
       "      <td>-0.046044</td>\n",
       "      <td>0.002548</td>\n",
       "      <td>...</td>\n",
       "      <td>0.02498</td>\n",
       "      <td>-0.021844</td>\n",
       "      <td>-0.018617</td>\n",
       "      <td>0.002169</td>\n",
       "      <td>-0.001469</td>\n",
       "      <td>0.051489</td>\n",
       "      <td>-0.011486</td>\n",
       "      <td>-0.014284</td>\n",
       "      <td>0.001243</td>\n",
       "      <td>-0.006754</td>\n",
       "    </tr>\n",
       "  </tbody>\n",
       "</table>\n",
       "<p>249 rows × 1192 columns</p>\n",
       "</div>"
      ],
      "text/plain": [
       "           Date      AADR      AAOI      AAPL      AAXJ      ABEO      ABMD  \\\n",
       "0    2019-01-03 -0.011221 -0.053018 -0.104924   -0.0239 -0.060091 -0.025056   \n",
       "1    2019-01-04   0.03813  0.031375  0.041803  0.032423  0.058668  0.036221   \n",
       "2    2019-01-07  0.011758  0.008969 -0.002228  0.005954  0.067472   0.00433   \n",
       "3    2019-01-08  0.006894  0.020828  0.018884  0.002652 -0.026992  0.011434   \n",
       "4    2019-01-09  0.016681  0.006847  0.016839  0.016994       0.0   0.05493   \n",
       "..          ...       ...       ...       ...       ...       ...       ...   \n",
       "244  2019-12-20  0.008244 -0.016057 -0.002073  0.003156 -0.471605 -0.039365   \n",
       "245  2019-12-23  0.002423  0.002694  0.016187  0.000411    0.1514  0.045308   \n",
       "246  2019-12-24  0.005199 -0.002694   0.00095 -0.003017 -0.008299  0.010854   \n",
       "247  2019-12-26   0.00554  0.043121  0.019646  0.006161       0.0 -0.007515   \n",
       "248  2019-12-27   0.00386 -0.007782  -0.00038  0.005988 -0.051293 -0.010227   \n",
       "\n",
       "         ABUS       ACB      ACER  ...      ZEAL      ZEUS      ZGNX  \\\n",
       "0   -0.059219 -0.019268  -0.05019  ...  0.025581  0.005219       0.0   \n",
       "1    0.083912  0.015444  0.052518  ...   0.04098  0.067908  0.075212   \n",
       "2    0.024098  0.007634  0.071347  ...  0.045176  0.036411  0.049797   \n",
       "3   -0.036368 -0.044711  0.017601  ...  0.005776  0.008754  0.026254   \n",
       "4   -0.058467  0.080196  0.004246  ...  0.019464  0.019563 -0.001804   \n",
       "..        ...       ...       ...  ...       ...       ...       ...   \n",
       "244  0.237081  -0.00885 -0.033379  ...  0.033544 -0.019242 -0.011079   \n",
       "245 -0.049656 -0.112795  0.015544  ... -0.006127  0.023158  0.024477   \n",
       "246       0.0     -0.01  0.020357  ...  0.008111  0.002231 -0.005262   \n",
       "247 -0.048427  0.005013 -0.012674  ...   0.03578  0.005556 -0.009086   \n",
       "248 -0.050892 -0.046044  0.002548  ...   0.02498 -0.021844 -0.018617   \n",
       "\n",
       "        ZIONO      ZIXI      ZLAB        ZS      ZUMZ      ZYXI      IXIC  \n",
       "0    0.001177  0.008525 -0.026814 -0.012385  -0.01334  -0.02452  -0.03084  \n",
       "1    0.012858  0.011815   0.01327  0.060445  0.024995  0.045068   0.04172  \n",
       "2    0.004635  0.010017  0.026907  0.041961  0.046268  0.003384  0.012477  \n",
       "3    0.013017  0.051792  0.005736  0.009596  0.014327  -0.00678  0.010718  \n",
       "4   -0.004193  -0.02233  0.019604  0.020257  0.008499  0.020203  0.008673  \n",
       "..        ...       ...       ...       ...       ...       ...       ...  \n",
       "244 -0.006804  0.010409 -0.014257  0.025146 -0.014335 -0.048603  0.002316  \n",
       "245  0.003945  0.056089  0.005115 -0.019733  0.014644  0.044851  0.000808  \n",
       "246 -0.001433 -0.019775 -0.008454 -0.008967 -0.001858  0.021079  0.007734  \n",
       "247 -0.009363 -0.028946 -0.016602  0.008759  0.026603 -0.013589 -0.001749  \n",
       "248  0.002169 -0.001469  0.051489 -0.011486 -0.014284  0.001243 -0.006754  \n",
       "\n",
       "[249 rows x 1192 columns]"
      ]
     },
     "execution_count": 71,
     "metadata": {},
     "output_type": "execute_result"
    }
   ],
   "source": [
    "log_returns"
   ]
  },
  {
   "cell_type": "code",
   "execution_count": 72,
   "id": "interstate-valley",
   "metadata": {
    "colab": {
     "base_uri": "https://localhost:8080/",
     "height": 419
    },
    "id": "heated-athletics",
    "outputId": "2d86c3d2-6b56-4bcb-fe5d-6dc524e2f58f"
   },
   "outputs": [
    {
     "data": {
      "text/html": [
       "<div>\n",
       "<style scoped>\n",
       "    .dataframe tbody tr th:only-of-type {\n",
       "        vertical-align: middle;\n",
       "    }\n",
       "\n",
       "    .dataframe tbody tr th {\n",
       "        vertical-align: top;\n",
       "    }\n",
       "\n",
       "    .dataframe thead th {\n",
       "        text-align: right;\n",
       "    }\n",
       "</style>\n",
       "<table border=\"1\" class=\"dataframe\">\n",
       "  <thead>\n",
       "    <tr style=\"text-align: right;\">\n",
       "      <th></th>\n",
       "      <th>Mean</th>\n",
       "      <th>Std</th>\n",
       "    </tr>\n",
       "  </thead>\n",
       "  <tbody>\n",
       "    <tr>\n",
       "      <th>AADR</th>\n",
       "      <td>0.001235</td>\n",
       "      <td>0.008511</td>\n",
       "    </tr>\n",
       "    <tr>\n",
       "      <th>AAOI</th>\n",
       "      <td>-0.001289</td>\n",
       "      <td>0.036041</td>\n",
       "    </tr>\n",
       "    <tr>\n",
       "      <th>AAPL</th>\n",
       "      <td>0.002498</td>\n",
       "      <td>0.016661</td>\n",
       "    </tr>\n",
       "    <tr>\n",
       "      <th>AAXJ</th>\n",
       "      <td>0.000701</td>\n",
       "      <td>0.009774</td>\n",
       "    </tr>\n",
       "    <tr>\n",
       "      <th>ABEO</th>\n",
       "      <td>-0.002894</td>\n",
       "      <td>0.074371</td>\n",
       "    </tr>\n",
       "    <tr>\n",
       "      <th>...</th>\n",
       "      <td>...</td>\n",
       "      <td>...</td>\n",
       "    </tr>\n",
       "    <tr>\n",
       "      <th>ZLAB</th>\n",
       "      <td>0.002372</td>\n",
       "      <td>0.026232</td>\n",
       "    </tr>\n",
       "    <tr>\n",
       "      <th>ZS</th>\n",
       "      <td>0.000719</td>\n",
       "      <td>0.033408</td>\n",
       "    </tr>\n",
       "    <tr>\n",
       "      <th>ZUMZ</th>\n",
       "      <td>0.002048</td>\n",
       "      <td>0.028866</td>\n",
       "    </tr>\n",
       "    <tr>\n",
       "      <th>ZYXI</th>\n",
       "      <td>0.004114</td>\n",
       "      <td>0.045198</td>\n",
       "    </tr>\n",
       "    <tr>\n",
       "      <th>IXIC</th>\n",
       "      <td>0.001182</td>\n",
       "      <td>0.009954</td>\n",
       "    </tr>\n",
       "  </tbody>\n",
       "</table>\n",
       "<p>1191 rows × 2 columns</p>\n",
       "</div>"
      ],
      "text/plain": [
       "          Mean       Std\n",
       "AADR  0.001235  0.008511\n",
       "AAOI -0.001289  0.036041\n",
       "AAPL  0.002498  0.016661\n",
       "AAXJ  0.000701  0.009774\n",
       "ABEO -0.002894  0.074371\n",
       "...        ...       ...\n",
       "ZLAB  0.002372  0.026232\n",
       "ZS    0.000719  0.033408\n",
       "ZUMZ  0.002048  0.028866\n",
       "ZYXI  0.004114  0.045198\n",
       "IXIC  0.001182  0.009954\n",
       "\n",
       "[1191 rows x 2 columns]"
      ]
     },
     "execution_count": 72,
     "metadata": {},
     "output_type": "execute_result"
    }
   ],
   "source": [
    "#calculate the estimates of the mathematical expectation and std for each stock\n",
    "ListOfStats = ['Mean', 'Std']\n",
    "\n",
    "stats = pd.DataFrame(columns = ListOfStats, index = tickers)\n",
    "\n",
    "for ticker in tickers:\n",
    "    mean = np.mean(log_returns[ticker]) # \n",
    "    std = np.std(log_returns[ticker], ddof = 1) # variance (дисперсия), должно быть стандартное отклонение \n",
    "    #std2 = np.std(log_returns[ticker])\n",
    "\n",
    "    stats['Mean'][ticker] = mean\n",
    "    stats['Std'][ticker] = std\n",
    "\n",
    "stats"
   ]
  },
  {
   "cell_type": "code",
   "execution_count": 75,
   "id": "removed-saturn",
   "metadata": {
    "colab": {
     "base_uri": "https://localhost:8080/",
     "height": 823
    },
    "id": "alternate-bones",
    "outputId": "9df76f9a-5c88-427e-e76c-bcb59fa189a4"
   },
   "outputs": [
    {
     "data": {
      "image/png": "[encoded data removed]",
      "text/plain": [
       "<Figure size 432x288 with 1 Axes>"
      ]
     },
     "metadata": {
      "needs_background": "light"
     },
     "output_type": "display_data"
    }
   ],
   "source": [
    "stats.plot(x='Std', y='Mean', color=\"red\", kind=\"scatter\", marker=\".\", label='All stonks') # лайк за стонкс) \n",
    "plt.scatter(stats['Std']['IXIC'], stats['Mean']['IXIC'], marker=\".\", color=\"blue\", label='Market index')\n",
    "plt.legend()\n",
    "plt.show()"
   ]
  },
  {
   "cell_type": "markdown",
   "id": "dress-davis",
   "metadata": {
    "id": "ePVgj2bSU1EZ"
   },
   "source": [
    "## 3-4. Equally weighted portfolio, stock market index  "
   ]
  },
  {
   "cell_type": "code",
   "execution_count": 76,
   "id": "happy-sensitivity",
   "metadata": {},
   "outputs": [],
   "source": [
    "log_returns_without_date = log_returns.drop(columns = ['Date'])"
   ]
  },
  {
   "cell_type": "code",
   "execution_count": 77,
   "id": "injured-scanning",
   "metadata": {},
   "outputs": [],
   "source": [
    "#equally weighted portfolio return\n",
    "returns_balanced = []\n",
    "for index, row in log_returns_without_date.iterrows():\n",
    "    returns_balanced.append(np.sum(row)/len(tickers))\n",
    "\n",
    "mean_balanced = np.round(np.mean(returns_balanced), 5)\n",
    "std_balanced = np.round(np.std(returns_balanced), 5)"
   ]
  },
  {
   "cell_type": "code",
   "execution_count": 78,
   "id": "embedded-parts",
   "metadata": {
    "id": "silent-episode",
    "outputId": "bcff9f71-3d88-4b14-89ca-62a17911bbe9"
   },
   "outputs": [
    {
     "data": {
      "image/png": "[encoded data removed]",
      "text/plain": [
       "<Figure size 432x288 with 1 Axes>"
      ]
     },
     "metadata": {
      "needs_background": "light"
     },
     "output_type": "display_data"
    }
   ],
   "source": [
    "stats.plot(x='Std', y='Mean', color=\"red\", kind=\"scatter\", label='All stonks')\n",
    "plt.scatter(stats['Std']['IXIC'], stats['Mean']['IXIC'], color=\"blue\", label='Market index')\n",
    "plt.scatter(std_balanced, mean_balanced, color=\"green\", label='Equally weighted portfolio')\n",
    "plt.legend()\n",
    "plt.show()"
   ]
  },
  {
   "cell_type": "markdown",
   "id": "confirmed-workshop",
   "metadata": {
    "id": "6eJRRW5NV4IY"
   },
   "source": [
    "# 5. VaR для активов, индекса рынка и портфеля с равными долями"
   ]
  },
  {
   "cell_type": "code",
   "execution_count": 105,
   "id": "essential-train",
   "metadata": {
    "colab": {
     "base_uri": "https://localhost:8080/"
    },
    "id": "ahead-quilt",
    "outputId": "97a569ae-09df-4402-cdf0-0d04521ed005"
   },
   "outputs": [],
   "source": [
    "losses = -log_returns.drop(['Date'], axis=1) # losses for every ticker and market index\n",
    "losses_balanced = [-x for x in returns_balanced] # losses for equally weighted portfolio\n",
    "\n",
    "VaR1 = np.quantile(losses, q=0.9, axis=0)\n",
    "VaR1 = pd.DataFrame(columns = tickers, data=[VaR1])\n",
    "\n",
    "VaR2 = np.quantile(losses, q=0.95, axis=0)\n",
    "VaR2 = pd.DataFrame(columns = tickers, data=[VaR2])"
   ]
  },
  {
   "cell_type": "code",
   "execution_count": 116,
   "id": "bed2fcc1",
   "metadata": {},
   "outputs": [
    {
     "name": "stdout",
     "output_type": "stream",
     "text": [
      "VaR для всех активов при γ = 0.9\n"
     ]
    },
    {
     "data": {
      "text/html": [
       "<div>\n",
       "<style scoped>\n",
       "    .dataframe tbody tr th:only-of-type {\n",
       "        vertical-align: middle;\n",
       "    }\n",
       "\n",
       "    .dataframe tbody tr th {\n",
       "        vertical-align: top;\n",
       "    }\n",
       "\n",
       "    .dataframe thead th {\n",
       "        text-align: right;\n",
       "    }\n",
       "</style>\n",
       "<table border=\"1\" class=\"dataframe\">\n",
       "  <thead>\n",
       "    <tr style=\"text-align: right;\">\n",
       "      <th></th>\n",
       "      <th>AADR</th>\n",
       "      <th>AAOI</th>\n",
       "      <th>AAPL</th>\n",
       "      <th>AAXJ</th>\n",
       "      <th>ABEO</th>\n",
       "      <th>ABMD</th>\n",
       "      <th>ABUS</th>\n",
       "      <th>ACB</th>\n",
       "      <th>ACER</th>\n",
       "      <th>ACGL</th>\n",
       "      <th>...</th>\n",
       "      <th>Z</th>\n",
       "      <th>ZEAL</th>\n",
       "      <th>ZEUS</th>\n",
       "      <th>ZGNX</th>\n",
       "      <th>ZIONO</th>\n",
       "      <th>ZIXI</th>\n",
       "      <th>ZLAB</th>\n",
       "      <th>ZS</th>\n",
       "      <th>ZUMZ</th>\n",
       "      <th>ZYXI</th>\n",
       "    </tr>\n",
       "  </thead>\n",
       "  <tbody>\n",
       "    <tr>\n",
       "      <th>0</th>\n",
       "      <td>0.009901</td>\n",
       "      <td>0.040697</td>\n",
       "      <td>0.014789</td>\n",
       "      <td>0.010906</td>\n",
       "      <td>0.070734</td>\n",
       "      <td>0.031014</td>\n",
       "      <td>0.060819</td>\n",
       "      <td>0.052681</td>\n",
       "      <td>0.049744</td>\n",
       "      <td>0.012701</td>\n",
       "      <td>...</td>\n",
       "      <td>0.02928</td>\n",
       "      <td>0.031683</td>\n",
       "      <td>0.035032</td>\n",
       "      <td>0.024901</td>\n",
       "      <td>0.007398</td>\n",
       "      <td>0.029793</td>\n",
       "      <td>0.028422</td>\n",
       "      <td>0.031536</td>\n",
       "      <td>0.028013</td>\n",
       "      <td>0.04669</td>\n",
       "    </tr>\n",
       "  </tbody>\n",
       "</table>\n",
       "<p>1 rows × 1190 columns</p>\n",
       "</div>"
      ],
      "text/plain": [
       "       AADR      AAOI      AAPL      AAXJ      ABEO      ABMD      ABUS  \\\n",
       "0  0.009901  0.040697  0.014789  0.010906  0.070734  0.031014  0.060819   \n",
       "\n",
       "        ACB      ACER      ACGL  ...        Z      ZEAL      ZEUS      ZGNX  \\\n",
       "0  0.052681  0.049744  0.012701  ...  0.02928  0.031683  0.035032  0.024901   \n",
       "\n",
       "      ZIONO      ZIXI      ZLAB        ZS      ZUMZ     ZYXI  \n",
       "0  0.007398  0.029793  0.028422  0.031536  0.028013  0.04669  \n",
       "\n",
       "[1 rows x 1190 columns]"
      ]
     },
     "execution_count": 116,
     "metadata": {},
     "output_type": "execute_result"
    }
   ],
   "source": [
    "print(\"VaR для всех активов при γ = 0.9\")\n",
    "VaR1.drop(['IXIC'], axis=1)"
   ]
  },
  {
   "cell_type": "code",
   "execution_count": 117,
   "id": "2c32c1fb",
   "metadata": {},
   "outputs": [
    {
     "name": "stdout",
     "output_type": "stream",
     "text": [
      "VaR для всех активов при γ = 0.95\n"
     ]
    },
    {
     "data": {
      "text/html": [
       "<div>\n",
       "<style scoped>\n",
       "    .dataframe tbody tr th:only-of-type {\n",
       "        vertical-align: middle;\n",
       "    }\n",
       "\n",
       "    .dataframe tbody tr th {\n",
       "        vertical-align: top;\n",
       "    }\n",
       "\n",
       "    .dataframe thead th {\n",
       "        text-align: right;\n",
       "    }\n",
       "</style>\n",
       "<table border=\"1\" class=\"dataframe\">\n",
       "  <thead>\n",
       "    <tr style=\"text-align: right;\">\n",
       "      <th></th>\n",
       "      <th>AADR</th>\n",
       "      <th>AAOI</th>\n",
       "      <th>AAPL</th>\n",
       "      <th>AAXJ</th>\n",
       "      <th>ABEO</th>\n",
       "      <th>ABMD</th>\n",
       "      <th>ABUS</th>\n",
       "      <th>ACB</th>\n",
       "      <th>ACER</th>\n",
       "      <th>ACGL</th>\n",
       "      <th>...</th>\n",
       "      <th>Z</th>\n",
       "      <th>ZEAL</th>\n",
       "      <th>ZEUS</th>\n",
       "      <th>ZGNX</th>\n",
       "      <th>ZIONO</th>\n",
       "      <th>ZIXI</th>\n",
       "      <th>ZLAB</th>\n",
       "      <th>ZS</th>\n",
       "      <th>ZUMZ</th>\n",
       "      <th>ZYXI</th>\n",
       "    </tr>\n",
       "  </thead>\n",
       "  <tbody>\n",
       "    <tr>\n",
       "      <th>0</th>\n",
       "      <td>0.012909</td>\n",
       "      <td>0.055037</td>\n",
       "      <td>0.020887</td>\n",
       "      <td>0.015551</td>\n",
       "      <td>0.085274</td>\n",
       "      <td>0.041589</td>\n",
       "      <td>0.085588</td>\n",
       "      <td>0.069905</td>\n",
       "      <td>0.081211</td>\n",
       "      <td>0.017916</td>\n",
       "      <td>...</td>\n",
       "      <td>0.038928</td>\n",
       "      <td>0.050352</td>\n",
       "      <td>0.047731</td>\n",
       "      <td>0.032475</td>\n",
       "      <td>0.01036</td>\n",
       "      <td>0.036164</td>\n",
       "      <td>0.040578</td>\n",
       "      <td>0.045305</td>\n",
       "      <td>0.043528</td>\n",
       "      <td>0.0575</td>\n",
       "    </tr>\n",
       "  </tbody>\n",
       "</table>\n",
       "<p>1 rows × 1190 columns</p>\n",
       "</div>"
      ],
      "text/plain": [
       "       AADR      AAOI      AAPL      AAXJ      ABEO      ABMD      ABUS  \\\n",
       "0  0.012909  0.055037  0.020887  0.015551  0.085274  0.041589  0.085588   \n",
       "\n",
       "        ACB      ACER      ACGL  ...         Z      ZEAL      ZEUS      ZGNX  \\\n",
       "0  0.069905  0.081211  0.017916  ...  0.038928  0.050352  0.047731  0.032475   \n",
       "\n",
       "     ZIONO      ZIXI      ZLAB        ZS      ZUMZ    ZYXI  \n",
       "0  0.01036  0.036164  0.040578  0.045305  0.043528  0.0575  \n",
       "\n",
       "[1 rows x 1190 columns]"
      ]
     },
     "execution_count": 117,
     "metadata": {},
     "output_type": "execute_result"
    }
   ],
   "source": [
    "print(\"VaR для всех активов при γ = 0.95\")\n",
    "VaR2.drop(['IXIC'], axis=1)"
   ]
  },
  {
   "cell_type": "code",
   "execution_count": 108,
   "id": "b637b7e6",
   "metadata": {},
   "outputs": [
    {
     "name": "stdout",
     "output_type": "stream",
     "text": [
      "При γ = 0.9 наиболее предпочтительным является актив SHV, VaR=9.052570779485673e-05\n",
      "При γ = 0.95 наиболее предпочтительным является актив FTSM, VaR=0.00016654477849707976\n"
     ]
    }
   ],
   "source": [
    "print(f\"При γ = 0.9 наиболее предпочтительным является актив {VaR1.loc[0].idxmin()}, VaR={VaR1.loc[0].min()}\")\n",
    "print(f\"При γ = 0.95 наиболее предпочтительным является актив {VaR2.loc[0].idxmin()}, VaR={VaR2.loc[0].min()}\")"
   ]
  },
  {
   "cell_type": "code",
   "execution_count": 109,
   "id": "00fba028",
   "metadata": {},
   "outputs": [
    {
     "name": "stdout",
     "output_type": "stream",
     "text": [
      "При γ = 0.9 VaR индекса рынка составляет 0.01113094471865213\n",
      "При γ = 0.95 VaR индекса рынка составляет 0.015540042124616928\n"
     ]
    }
   ],
   "source": [
    "VaR = np.quantile(losses[\"IXIC\"], q=0.9)\n",
    "print(f\"При γ = 0.9 VaR индекса рынка составляет {VaR}\")\n",
    "\n",
    "VaR = np.quantile(losses[\"IXIC\"], q=0.95)\n",
    "print(f\"При γ = 0.95 VaR индекса рынка составляет {VaR}\")"
   ]
  },
  {
   "cell_type": "code",
   "execution_count": 112,
   "id": "df788118",
   "metadata": {},
   "outputs": [
    {
     "name": "stdout",
     "output_type": "stream",
     "text": [
      "При γ = 0.9 VaR портфеля с равными долями составляет 0.009864657822807325\n",
      "При γ = 0.95 VaR портфеля с равными долями составляет 0.013920772664622586\n"
     ]
    }
   ],
   "source": [
    "VaR = np.quantile(losses_balanced, q=0.90)\n",
    "print(f\"При γ = 0.9 VaR портфеля с равными долями составляет {VaR}\")\n",
    "\n",
    "VaR = np.quantile(losses_balanced, q=0.95)\n",
    "print(f\"При γ = 0.95 VaR портфеля с равными долями составляет {VaR}\")"
   ]
  },
  {
   "cell_type": "code",
   "execution_count": 111,
   "id": "901f6b92",
   "metadata": {},
   "outputs": [
    {
     "data": {
      "image/png": "[encoded data removed]",
      "text/plain": [
       "<Figure size 1080x720 with 1 Axes>"
      ]
     },
     "metadata": {
      "needs_background": "light"
     },
     "output_type": "display_data"
    }
   ],
   "source": [
    "stats.plot(title = \"stonks\", x='Std', y='Mean', color=\"red\", kind=\"scatter\", label=\"All stonks\", marker = \".\", figsize=(15,10))\n",
    "plt.scatter(stats['Std'][VaR1.loc[0].idxmin()], stats['Mean'][VaR1.loc[0].idxmin()], color=\"black\", label=f\"Stock with the least value of VaR for γ = 0.9 ({VaR1.loc[0].idxmin()})\")\n",
    "plt.scatter(stats['Std'][VaR2.loc[0].idxmin()], stats['Mean'][VaR2.loc[0].idxmin()], color=\"yellow\", label=f\"Stock with the least value of VaR for γ = 0.95 ({VaR2.loc[0].idxmin()})\")\n",
    "plt.scatter(stats['Std'][\"IXIC\"], stats['Mean'][\"IXIC\"], color=\"blue\", label=\"Market Index\")\n",
    "plt.scatter(std_balanced, mean_balanced, color=\"green\", label='Equally weighted portfolio')\n",
    "plt.legend()\n",
    "plt.show()"
   ]
  },
  {
   "cell_type": "markdown",
   "id": "informed-species",
   "metadata": {
    "id": "ihxHStIeZnyp"
   },
   "source": [
    "## 6. White noise"
   ]
  },
  {
   "cell_type": "markdown",
   "id": "realistic-level",
   "metadata": {
    "id": "RMLdWyXiZtjJ"
   },
   "source": [
    "## 7. "
   ]
  },
  {
   "cell_type": "markdown",
   "id": "smaller-programmer",
   "metadata": {
    "id": "iHULv6yeZt3E"
   },
   "source": [
    "## 8. "
   ]
  },
  {
   "cell_type": "markdown",
   "id": "collect-heating",
   "metadata": {
    "id": "JdcFS4h1ZuIC"
   },
   "source": []
  }
 ],
 "metadata": {
  "colab": {
   "collapsed_sections": [],
   "name": "lab1.ipynb",
   "provenance": []
  },
  "kernelspec": {
   "display_name": "Python 3",
   "language": "python",
   "name": "python3"
  },
  "language_info": {
   "codemirror_mode": {
    "name": "ipython",
    "version": 3
   },
   "file_extension": ".py",
   "mimetype": "text/x-python",
   "name": "python",
   "nbconvert_exporter": "python",
   "pygments_lexer": "ipython3",
   "version": "3.8.8"
  }
 },
 "nbformat": 4,
 "nbformat_minor": 5
}
