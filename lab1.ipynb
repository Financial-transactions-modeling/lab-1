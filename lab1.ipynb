{
 "cells": [
  {
   "cell_type": "code",
   "execution_count": 1,
   "metadata": {
    "id": "suffering-stroke"
   },
   "outputs": [],
   "source": [
    "import pandas as pd\n",
    "import yfinance as yf\n",
    "import numpy as np\n",
    "import matplotlib.pyplot as plt\n",
    "import scipy.stats"
   ]
  },
  {
   "cell_type": "markdown",
   "metadata": {
    "id": "ALRJ9srgLIF3"
   },
   "source": [
    "## 1. Data collection "
   ]
  },
  {
   "cell_type": "code",
   "execution_count": 2,
   "metadata": {
    "id": "systematic-living"
   },
   "outputs": [],
   "source": [
    "nasdaq = pd.read_excel(\"NASDAQ.xlsx\")\n",
    "tickers = nasdaq['Symbol']\n",
    "tickers_list = list()\n",
    "for ticker in tickers:\n",
    "    tickers_list.append(ticker)"
   ]
  },
  {
   "cell_type": "code",
   "execution_count": 3,
   "metadata": {},
   "outputs": [],
   "source": [
    "#data = yf.download(tickers_list,'2019-01-02','2019-12-31')\n",
    "#data.to_pickle('ticker_data')"
   ]
  },
  {
   "cell_type": "code",
   "execution_count": 4,
   "metadata": {
    "colab": {
     "base_uri": "https://localhost:8080/"
    },
    "id": "about-county",
    "outputId": "3a2b3522-2a29-4725-c602-5155b43ccafc"
   },
   "outputs": [],
   "source": [
    "#stock data\n",
    "data = pd.read_pickle('ticker_data')\n",
    "data = data.drop(columns = ['Low', 'High', 'Open', 'Close'])\n",
    "#market index data\n",
    "index = pd.read_csv('index_ixic.csv', sep=\",\")\n",
    "index = index.drop(columns = ['Low', 'High', 'Open', 'Close'])"
   ]
  },
  {
   "cell_type": "code",
   "execution_count": 5,
   "metadata": {
    "colab": {
     "base_uri": "https://localhost:8080/"
    },
    "id": "stretch-tulsa",
    "outputId": "b1a961b8-a3bc-4d45-ced6-f8c1dad04c5e"
   },
   "outputs": [
    {
     "name": "stderr",
     "output_type": "stream",
     "text": [
      "C:\\Users\\Katya\\anaconda3\\lib\\site-packages\\pandas\\core\\indexing.py:966: SettingWithCopyWarning: \n",
      "A value is trying to be set on a copy of a slice from a DataFrame.\n",
      "Try using .loc[row_indexer,col_indexer] = value instead\n",
      "\n",
      "See the caveats in the documentation: https://pandas.pydata.org/pandas-docs/stable/user_guide/indexing.html#returning-a-view-versus-a-copy\n",
      "  self.obj[item] = s\n"
     ]
    },
    {
     "data": {
      "text/plain": [
       "({'2019-11-28'}, (252, 5014), (251, 3))"
      ]
     },
     "execution_count": 5,
     "metadata": {},
     "output_type": "execute_result"
    }
   ],
   "source": [
    "adj_close = data['Adj Close'] # adjusted closing price\n",
    "volume = data['Volume'] # sales volume\n",
    "\n",
    "\n",
    "adj_close.reset_index(level=0, inplace=True) # set index from date to int\n",
    "volume.reset_index(level=0, inplace=True)\n",
    "\n",
    "for i in range(0, len(adj_close['Date'])):\n",
    "    volume.loc[i, 'Date'] = str(volume['Date'][i].date())\n",
    "    adj_close.loc[i, 'Date'] = str(adj_close['Date'][i].date())\n",
    "\n",
    "\n",
    "adj_indexes = set(adj_close['Date'].to_list())\n",
    "ind_indexes = set(index['Date'].to_list())\n",
    "diff = adj_indexes.difference(ind_indexes)\n",
    "diff, adj_close.shape, index.shape"
   ]
  },
  {
   "cell_type": "code",
   "execution_count": 6,
   "metadata": {
    "id": "revolutionary-imagination"
   },
   "outputs": [],
   "source": [
    "\n",
    "adj_close = adj_close.loc[adj_close['Date'] != '2019-11-28']\n",
    "volume = volume.loc[volume['Date'] != '2019-11-28']\n",
    "\n",
    "#handling missing values\n",
    "adj_close = adj_close.dropna(axis=1, how='any')\n",
    "volume = volume.dropna(axis=1, how='any')\n",
    "\n",
    "#add the index data to the main data\n",
    "adj_close['IXIC'] = index['Adj Close']\n",
    "volume['IXIC'] = index['Volume']\n",
    "\n",
    "#delete last day as ixic is nan\n",
    "adj_close = adj_close.loc[adj_close['Date'] != '2019-12-30']\n",
    "volume = volume.loc[volume['Date'] != '2019-12-30']\n",
    "\n",
    "#reindex after drop\n",
    "adj_close.reset_index(drop=True, inplace=True)"
   ]
  },
  {
   "cell_type": "code",
   "execution_count": 7,
   "metadata": {
    "id": "consistent-collins"
   },
   "outputs": [],
   "source": [
    "#reduce the number of tickers\n",
    "tickers_to_delete = adj_close.columns.to_list()\n",
    "tickers_to_delete.remove('Date')\n",
    "tickers_to_delete.remove('IXIC')\n",
    "tickers_to_delete = tickers_to_delete[::2]\n",
    "adj_close.drop(tickers_to_delete, inplace=True, axis=1) \n",
    "volume.drop(tickers_to_delete, inplace=True, axis=1) "
   ]
  },
  {
   "cell_type": "code",
   "execution_count": null,
   "metadata": {},
   "outputs": [],
   "source": []
  },
  {
   "cell_type": "markdown",
   "metadata": {
    "id": "7c_xhXnzLUkt"
   },
   "source": [
    "## 2. Logarithmic returns, expected value and standard deviation estimations\n"
   ]
  },
  {
   "cell_type": "code",
   "execution_count": 8,
   "metadata": {
    "id": "skilled-brazilian"
   },
   "outputs": [],
   "source": [
    "# calculate logarithmic returns\n",
    "log_returns = pd.DataFrame(index = adj_close.index, columns = adj_close.columns)\n",
    "log_returns['Date'] = adj_close['Date']\n",
    "tickers = adj_close.columns.to_list()\n",
    "tickers.remove('Date')\n",
    "\n",
    "\n",
    "num_days=len(log_returns['AADR'])\n",
    "for ticker in tickers:\n",
    "    for i in range(1, num_days):\n",
    "        log_returns.loc[i, ticker] = np.log(adj_close.loc[i, ticker]/adj_close.loc[i-1, ticker])\n",
    "#droping first day\n",
    "log_returns = log_returns.dropna(axis=0, how='any')\n",
    "log_returns.reset_index( drop=True, inplace=True) \n"
   ]
  },
  {
   "cell_type": "code",
   "execution_count": 9,
   "metadata": {
    "colab": {
     "base_uri": "https://localhost:8080/",
     "height": 609
    },
    "id": "becoming-representative",
    "outputId": "2b292add-a907-4bfd-a436-55d80bd35a22"
   },
   "outputs": [
    {
     "data": {
      "text/html": [
       "<div>\n",
       "<style scoped>\n",
       "    .dataframe tbody tr th:only-of-type {\n",
       "        vertical-align: middle;\n",
       "    }\n",
       "\n",
       "    .dataframe tbody tr th {\n",
       "        vertical-align: top;\n",
       "    }\n",
       "\n",
       "    .dataframe thead th {\n",
       "        text-align: right;\n",
       "    }\n",
       "</style>\n",
       "<table border=\"1\" class=\"dataframe\">\n",
       "  <thead>\n",
       "    <tr style=\"text-align: right;\">\n",
       "      <th></th>\n",
       "      <th>Date</th>\n",
       "      <th>AADR</th>\n",
       "      <th>AAOI</th>\n",
       "      <th>AAPL</th>\n",
       "      <th>AAXJ</th>\n",
       "      <th>ABEO</th>\n",
       "      <th>ABMD</th>\n",
       "      <th>ABUS</th>\n",
       "      <th>ACB</th>\n",
       "      <th>ACER</th>\n",
       "      <th>...</th>\n",
       "      <th>ZBRA</th>\n",
       "      <th>ZEST</th>\n",
       "      <th>ZG</th>\n",
       "      <th>ZION</th>\n",
       "      <th>ZIOP</th>\n",
       "      <th>ZKIN</th>\n",
       "      <th>ZNGA</th>\n",
       "      <th>ZSAN</th>\n",
       "      <th>ZYNE</th>\n",
       "      <th>IXIC</th>\n",
       "    </tr>\n",
       "  </thead>\n",
       "  <tbody>\n",
       "    <tr>\n",
       "      <th>0</th>\n",
       "      <td>2019-01-03</td>\n",
       "      <td>-0.0112208</td>\n",
       "      <td>-0.0530182</td>\n",
       "      <td>-0.104924</td>\n",
       "      <td>-0.0239004</td>\n",
       "      <td>-0.0600914</td>\n",
       "      <td>-0.0250564</td>\n",
       "      <td>-0.0592194</td>\n",
       "      <td>-0.0192684</td>\n",
       "      <td>-0.0501898</td>\n",
       "      <td>...</td>\n",
       "      <td>-0.0617774</td>\n",
       "      <td>0.057894</td>\n",
       "      <td>-0.0109327</td>\n",
       "      <td>-0.00554689</td>\n",
       "      <td>-0.0275246</td>\n",
       "      <td>-0.0651332</td>\n",
       "      <td>-0.0151902</td>\n",
       "      <td>0.0294759</td>\n",
       "      <td>-0.013532</td>\n",
       "      <td>-0.03084</td>\n",
       "    </tr>\n",
       "    <tr>\n",
       "      <th>1</th>\n",
       "      <td>2019-01-04</td>\n",
       "      <td>0.0381305</td>\n",
       "      <td>0.0313751</td>\n",
       "      <td>0.0418032</td>\n",
       "      <td>0.0324233</td>\n",
       "      <td>0.0586679</td>\n",
       "      <td>0.0362211</td>\n",
       "      <td>0.083912</td>\n",
       "      <td>0.0154443</td>\n",
       "      <td>0.0525181</td>\n",
       "      <td>...</td>\n",
       "      <td>0.0406259</td>\n",
       "      <td>0.117783</td>\n",
       "      <td>0.0259755</td>\n",
       "      <td>0.030251</td>\n",
       "      <td>0.041008</td>\n",
       "      <td>0.126881</td>\n",
       "      <td>0.0251902</td>\n",
       "      <td>0.0911522</td>\n",
       "      <td>0.0861027</td>\n",
       "      <td>0.0417198</td>\n",
       "    </tr>\n",
       "    <tr>\n",
       "      <th>2</th>\n",
       "      <td>2019-01-07</td>\n",
       "      <td>0.0117576</td>\n",
       "      <td>0.00896869</td>\n",
       "      <td>-0.00222819</td>\n",
       "      <td>0.00595423</td>\n",
       "      <td>0.0674723</td>\n",
       "      <td>0.00432952</td>\n",
       "      <td>0.0240975</td>\n",
       "      <td>0.00763362</td>\n",
       "      <td>0.0713467</td>\n",
       "      <td>...</td>\n",
       "      <td>0.0150525</td>\n",
       "      <td>-0.0454623</td>\n",
       "      <td>0.00550252</td>\n",
       "      <td>0.00398099</td>\n",
       "      <td>0.013304</td>\n",
       "      <td>0.0178047</td>\n",
       "      <td>0.0123611</td>\n",
       "      <td>0.0298529</td>\n",
       "      <td>0</td>\n",
       "      <td>0.0124774</td>\n",
       "    </tr>\n",
       "    <tr>\n",
       "      <th>3</th>\n",
       "      <td>2019-01-08</td>\n",
       "      <td>0.00689408</td>\n",
       "      <td>0.0208275</td>\n",
       "      <td>0.0188837</td>\n",
       "      <td>0.00265223</td>\n",
       "      <td>-0.0269922</td>\n",
       "      <td>0.0114338</td>\n",
       "      <td>-0.0363676</td>\n",
       "      <td>-0.044711</td>\n",
       "      <td>0.0176008</td>\n",
       "      <td>...</td>\n",
       "      <td>0.00667488</td>\n",
       "      <td>-0.0723207</td>\n",
       "      <td>0.0264389</td>\n",
       "      <td>0.00907301</td>\n",
       "      <td>-0.0358783</td>\n",
       "      <td>-0.0923734</td>\n",
       "      <td>0.0170527</td>\n",
       "      <td>0.0182154</td>\n",
       "      <td>0.0295588</td>\n",
       "      <td>0.0107184</td>\n",
       "    </tr>\n",
       "    <tr>\n",
       "      <th>4</th>\n",
       "      <td>2019-01-09</td>\n",
       "      <td>0.0166807</td>\n",
       "      <td>0.00684725</td>\n",
       "      <td>0.0168391</td>\n",
       "      <td>0.0169942</td>\n",
       "      <td>0</td>\n",
       "      <td>0.0549296</td>\n",
       "      <td>-0.0584665</td>\n",
       "      <td>0.0801956</td>\n",
       "      <td>0.00424631</td>\n",
       "      <td>...</td>\n",
       "      <td>0.0245163</td>\n",
       "      <td>-0.0645385</td>\n",
       "      <td>0.0233039</td>\n",
       "      <td>0.00853228</td>\n",
       "      <td>0.0314632</td>\n",
       "      <td>0.166061</td>\n",
       "      <td>0.0309181</td>\n",
       "      <td>0.0143371</td>\n",
       "      <td>0.0357607</td>\n",
       "      <td>0.00867332</td>\n",
       "    </tr>\n",
       "    <tr>\n",
       "      <th>...</th>\n",
       "      <td>...</td>\n",
       "      <td>...</td>\n",
       "      <td>...</td>\n",
       "      <td>...</td>\n",
       "      <td>...</td>\n",
       "      <td>...</td>\n",
       "      <td>...</td>\n",
       "      <td>...</td>\n",
       "      <td>...</td>\n",
       "      <td>...</td>\n",
       "      <td>...</td>\n",
       "      <td>...</td>\n",
       "      <td>...</td>\n",
       "      <td>...</td>\n",
       "      <td>...</td>\n",
       "      <td>...</td>\n",
       "      <td>...</td>\n",
       "      <td>...</td>\n",
       "      <td>...</td>\n",
       "      <td>...</td>\n",
       "      <td>...</td>\n",
       "    </tr>\n",
       "    <tr>\n",
       "      <th>244</th>\n",
       "      <td>2019-12-20</td>\n",
       "      <td>0.0082443</td>\n",
       "      <td>-0.0160575</td>\n",
       "      <td>-0.00207335</td>\n",
       "      <td>0.00315572</td>\n",
       "      <td>-0.471605</td>\n",
       "      <td>-0.0393647</td>\n",
       "      <td>0.237081</td>\n",
       "      <td>-0.00884961</td>\n",
       "      <td>-0.0333793</td>\n",
       "      <td>...</td>\n",
       "      <td>-0.00253154</td>\n",
       "      <td>0.0151136</td>\n",
       "      <td>-0.0202348</td>\n",
       "      <td>0.00271527</td>\n",
       "      <td>-0.0336999</td>\n",
       "      <td>-0.0540673</td>\n",
       "      <td>-0.00318979</td>\n",
       "      <td>-0.00722024</td>\n",
       "      <td>-0.00801932</td>\n",
       "      <td>0.00231558</td>\n",
       "    </tr>\n",
       "    <tr>\n",
       "      <th>245</th>\n",
       "      <td>2019-12-23</td>\n",
       "      <td>0.00242295</td>\n",
       "      <td>0.00269419</td>\n",
       "      <td>0.0161868</td>\n",
       "      <td>0.000410782</td>\n",
       "      <td>0.1514</td>\n",
       "      <td>0.0453082</td>\n",
       "      <td>-0.0496556</td>\n",
       "      <td>-0.112795</td>\n",
       "      <td>0.0155444</td>\n",
       "      <td>...</td>\n",
       "      <td>0.0166533</td>\n",
       "      <td>0</td>\n",
       "      <td>0.0127797</td>\n",
       "      <td>-0.00563265</td>\n",
       "      <td>0</td>\n",
       "      <td>0.0389154</td>\n",
       "      <td>0.00318979</td>\n",
       "      <td>0.0215062</td>\n",
       "      <td>-0.0244511</td>\n",
       "      <td>0.000807831</td>\n",
       "    </tr>\n",
       "    <tr>\n",
       "      <th>246</th>\n",
       "      <td>2019-12-24</td>\n",
       "      <td>0.00519865</td>\n",
       "      <td>-0.00269419</td>\n",
       "      <td>0.000950071</td>\n",
       "      <td>-0.00301693</td>\n",
       "      <td>-0.00829886</td>\n",
       "      <td>0.0108538</td>\n",
       "      <td>0</td>\n",
       "      <td>-0.0100002</td>\n",
       "      <td>0.0203569</td>\n",
       "      <td>...</td>\n",
       "      <td>-0.00939235</td>\n",
       "      <td>0</td>\n",
       "      <td>0.0135138</td>\n",
       "      <td>0.00369387</td>\n",
       "      <td>0.0433993</td>\n",
       "      <td>0.00760468</td>\n",
       "      <td>0.00793021</td>\n",
       "      <td>-0.0142859</td>\n",
       "      <td>-0.00995032</td>\n",
       "      <td>0.00773397</td>\n",
       "    </tr>\n",
       "    <tr>\n",
       "      <th>247</th>\n",
       "      <td>2019-12-26</td>\n",
       "      <td>0.00554022</td>\n",
       "      <td>0.0431215</td>\n",
       "      <td>0.0196462</td>\n",
       "      <td>0.00616143</td>\n",
       "      <td>0</td>\n",
       "      <td>-0.00751516</td>\n",
       "      <td>-0.0484266</td>\n",
       "      <td>0.00501258</td>\n",
       "      <td>-0.0126744</td>\n",
       "      <td>...</td>\n",
       "      <td>0.000353794</td>\n",
       "      <td>0</td>\n",
       "      <td>0.0137749</td>\n",
       "      <td>0.00251982</td>\n",
       "      <td>-0.0454175</td>\n",
       "      <td>-0.00760468</td>\n",
       "      <td>-0.00475056</td>\n",
       "      <td>0.00716848</td>\n",
       "      <td>-0.0219049</td>\n",
       "      <td>-0.00174935</td>\n",
       "    </tr>\n",
       "    <tr>\n",
       "      <th>248</th>\n",
       "      <td>2019-12-27</td>\n",
       "      <td>0.00385984</td>\n",
       "      <td>-0.00778207</td>\n",
       "      <td>-0.000379688</td>\n",
       "      <td>0.00598799</td>\n",
       "      <td>-0.0512932</td>\n",
       "      <td>-0.0102269</td>\n",
       "      <td>-0.0508916</td>\n",
       "      <td>-0.0460439</td>\n",
       "      <td>0.00254777</td>\n",
       "      <td>...</td>\n",
       "      <td>0.00619101</td>\n",
       "      <td>0</td>\n",
       "      <td>0.0111905</td>\n",
       "      <td>-0.0031021</td>\n",
       "      <td>0.0396092</td>\n",
       "      <td>-0.0153849</td>\n",
       "      <td>-0.0079682</td>\n",
       "      <td>-0.0216615</td>\n",
       "      <td>-0.0189171</td>\n",
       "      <td>-0.00675446</td>\n",
       "    </tr>\n",
       "  </tbody>\n",
       "</table>\n",
       "<p>249 rows × 1191 columns</p>\n",
       "</div>"
      ],
      "text/plain": [
       "           Date        AADR        AAOI         AAPL         AAXJ        ABEO  \\\n",
       "0    2019-01-03  -0.0112208  -0.0530182    -0.104924   -0.0239004  -0.0600914   \n",
       "1    2019-01-04   0.0381305   0.0313751    0.0418032    0.0324233   0.0586679   \n",
       "2    2019-01-07   0.0117576  0.00896869  -0.00222819   0.00595423   0.0674723   \n",
       "3    2019-01-08  0.00689408   0.0208275    0.0188837   0.00265223  -0.0269922   \n",
       "4    2019-01-09   0.0166807  0.00684725    0.0168391    0.0169942           0   \n",
       "..          ...         ...         ...          ...          ...         ...   \n",
       "244  2019-12-20   0.0082443  -0.0160575  -0.00207335   0.00315572   -0.471605   \n",
       "245  2019-12-23  0.00242295  0.00269419    0.0161868  0.000410782      0.1514   \n",
       "246  2019-12-24  0.00519865 -0.00269419  0.000950071  -0.00301693 -0.00829886   \n",
       "247  2019-12-26  0.00554022   0.0431215    0.0196462   0.00616143           0   \n",
       "248  2019-12-27  0.00385984 -0.00778207 -0.000379688   0.00598799  -0.0512932   \n",
       "\n",
       "           ABMD       ABUS         ACB        ACER  ...         ZBRA  \\\n",
       "0    -0.0250564 -0.0592194  -0.0192684  -0.0501898  ...   -0.0617774   \n",
       "1     0.0362211   0.083912   0.0154443   0.0525181  ...    0.0406259   \n",
       "2    0.00432952  0.0240975  0.00763362   0.0713467  ...    0.0150525   \n",
       "3     0.0114338 -0.0363676   -0.044711   0.0176008  ...   0.00667488   \n",
       "4     0.0549296 -0.0584665   0.0801956  0.00424631  ...    0.0245163   \n",
       "..          ...        ...         ...         ...  ...          ...   \n",
       "244  -0.0393647   0.237081 -0.00884961  -0.0333793  ...  -0.00253154   \n",
       "245   0.0453082 -0.0496556   -0.112795   0.0155444  ...    0.0166533   \n",
       "246   0.0108538          0  -0.0100002   0.0203569  ...  -0.00939235   \n",
       "247 -0.00751516 -0.0484266  0.00501258  -0.0126744  ...  0.000353794   \n",
       "248  -0.0102269 -0.0508916  -0.0460439  0.00254777  ...   0.00619101   \n",
       "\n",
       "          ZEST          ZG        ZION       ZIOP        ZKIN        ZNGA  \\\n",
       "0     0.057894  -0.0109327 -0.00554689 -0.0275246  -0.0651332  -0.0151902   \n",
       "1     0.117783   0.0259755    0.030251   0.041008    0.126881   0.0251902   \n",
       "2   -0.0454623  0.00550252  0.00398099   0.013304   0.0178047   0.0123611   \n",
       "3   -0.0723207   0.0264389  0.00907301 -0.0358783  -0.0923734   0.0170527   \n",
       "4   -0.0645385   0.0233039  0.00853228  0.0314632    0.166061   0.0309181   \n",
       "..         ...         ...         ...        ...         ...         ...   \n",
       "244  0.0151136  -0.0202348  0.00271527 -0.0336999  -0.0540673 -0.00318979   \n",
       "245          0   0.0127797 -0.00563265          0   0.0389154  0.00318979   \n",
       "246          0   0.0135138  0.00369387  0.0433993  0.00760468  0.00793021   \n",
       "247          0   0.0137749  0.00251982 -0.0454175 -0.00760468 -0.00475056   \n",
       "248          0   0.0111905  -0.0031021  0.0396092  -0.0153849  -0.0079682   \n",
       "\n",
       "           ZSAN        ZYNE         IXIC  \n",
       "0     0.0294759   -0.013532     -0.03084  \n",
       "1     0.0911522   0.0861027    0.0417198  \n",
       "2     0.0298529           0    0.0124774  \n",
       "3     0.0182154   0.0295588    0.0107184  \n",
       "4     0.0143371   0.0357607   0.00867332  \n",
       "..          ...         ...          ...  \n",
       "244 -0.00722024 -0.00801932   0.00231558  \n",
       "245   0.0215062  -0.0244511  0.000807831  \n",
       "246  -0.0142859 -0.00995032   0.00773397  \n",
       "247  0.00716848  -0.0219049  -0.00174935  \n",
       "248  -0.0216615  -0.0189171  -0.00675446  \n",
       "\n",
       "[249 rows x 1191 columns]"
      ]
     },
     "execution_count": 9,
     "metadata": {},
     "output_type": "execute_result"
    }
   ],
   "source": [
    "log_returns"
   ]
  },
  {
   "cell_type": "code",
   "execution_count": 10,
   "metadata": {
    "colab": {
     "base_uri": "https://localhost:8080/",
     "height": 419
    },
    "id": "heated-athletics",
    "outputId": "2d86c3d2-6b56-4bcb-fe5d-6dc524e2f58f"
   },
   "outputs": [
    {
     "data": {
      "text/html": [
       "<div>\n",
       "<style scoped>\n",
       "    .dataframe tbody tr th:only-of-type {\n",
       "        vertical-align: middle;\n",
       "    }\n",
       "\n",
       "    .dataframe tbody tr th {\n",
       "        vertical-align: top;\n",
       "    }\n",
       "\n",
       "    .dataframe thead th {\n",
       "        text-align: right;\n",
       "    }\n",
       "</style>\n",
       "<table border=\"1\" class=\"dataframe\">\n",
       "  <thead>\n",
       "    <tr style=\"text-align: right;\">\n",
       "      <th></th>\n",
       "      <th>Mean</th>\n",
       "      <th>Std</th>\n",
       "    </tr>\n",
       "  </thead>\n",
       "  <tbody>\n",
       "    <tr>\n",
       "      <th>AADR</th>\n",
       "      <td>0.00123549</td>\n",
       "      <td>0.00851074</td>\n",
       "    </tr>\n",
       "    <tr>\n",
       "      <th>AAOI</th>\n",
       "      <td>-0.00128906</td>\n",
       "      <td>0.0360411</td>\n",
       "    </tr>\n",
       "    <tr>\n",
       "      <th>AAPL</th>\n",
       "      <td>0.00249805</td>\n",
       "      <td>0.0166611</td>\n",
       "    </tr>\n",
       "    <tr>\n",
       "      <th>AAXJ</th>\n",
       "      <td>0.000701248</td>\n",
       "      <td>0.00977426</td>\n",
       "    </tr>\n",
       "    <tr>\n",
       "      <th>ABEO</th>\n",
       "      <td>-0.00289376</td>\n",
       "      <td>0.0743709</td>\n",
       "    </tr>\n",
       "    <tr>\n",
       "      <th>...</th>\n",
       "      <td>...</td>\n",
       "      <td>...</td>\n",
       "    </tr>\n",
       "    <tr>\n",
       "      <th>ZKIN</th>\n",
       "      <td>-0.000788889</td>\n",
       "      <td>0.0445391</td>\n",
       "    </tr>\n",
       "    <tr>\n",
       "      <th>ZNGA</th>\n",
       "      <td>0.00181245</td>\n",
       "      <td>0.0156228</td>\n",
       "    </tr>\n",
       "    <tr>\n",
       "      <th>ZSAN</th>\n",
       "      <td>-0.00214996</td>\n",
       "      <td>0.0820995</td>\n",
       "    </tr>\n",
       "    <tr>\n",
       "      <th>ZYNE</th>\n",
       "      <td>0.00175588</td>\n",
       "      <td>0.0539614</td>\n",
       "    </tr>\n",
       "    <tr>\n",
       "      <th>IXIC</th>\n",
       "      <td>0.0011815</td>\n",
       "      <td>0.00995379</td>\n",
       "    </tr>\n",
       "  </tbody>\n",
       "</table>\n",
       "<p>1190 rows × 2 columns</p>\n",
       "</div>"
      ],
      "text/plain": [
       "             Mean         Std\n",
       "AADR   0.00123549  0.00851074\n",
       "AAOI  -0.00128906   0.0360411\n",
       "AAPL   0.00249805   0.0166611\n",
       "AAXJ  0.000701248  0.00977426\n",
       "ABEO  -0.00289376   0.0743709\n",
       "...           ...         ...\n",
       "ZKIN -0.000788889   0.0445391\n",
       "ZNGA   0.00181245   0.0156228\n",
       "ZSAN  -0.00214996   0.0820995\n",
       "ZYNE   0.00175588   0.0539614\n",
       "IXIC    0.0011815  0.00995379\n",
       "\n",
       "[1190 rows x 2 columns]"
      ]
     },
     "execution_count": 10,
     "metadata": {},
     "output_type": "execute_result"
    }
   ],
   "source": [
    "#calculate the estimates of the mathematical expectation and std for each stock\n",
    "ListOfStats = ['Mean', 'Std']\n",
    "\n",
    "stats = pd.DataFrame(columns = ListOfStats, index = tickers)\n",
    "\n",
    "for ticker in tickers:\n",
    "    mean = np.mean(log_returns[ticker]) # \n",
    "    std = np.std(log_returns[ticker], ddof = 1) # variance (дисперсия), должно быть стандартное отклонение \n",
    "    #std2 = np.std(log_returns[ticker])\n",
    "\n",
    "    stats['Mean'][ticker] = mean\n",
    "    stats['Std'][ticker] = std\n",
    "\n",
    "stats"
   ]
  },
  {
   "cell_type": "code",
   "execution_count": 11,
   "metadata": {
    "colab": {
     "base_uri": "https://localhost:8080/",
     "height": 823
    },
    "id": "alternate-bones",
    "outputId": "9df76f9a-5c88-427e-e76c-bcb59fa189a4"
   },
   "outputs": [
    {
     "data": {
      "image/png": "[encoded data removed]",
      "text/plain": [
       "<Figure size 432x288 with 1 Axes>"
      ]
     },
     "metadata": {
      "needs_background": "light"
     },
     "output_type": "display_data"
    }
   ],
   "source": [
    "stats.plot(x='Std', y='Mean', color=\"red\", kind=\"scatter\", marker=\".\", label='All stonks') # лайк за стонкс) \n",
    "plt.scatter(stats['Std']['IXIC'], stats['Mean']['IXIC'], marker=\".\", color=\"blue\", label='Market index')\n",
    "plt.legend()\n",
    "plt.show()"
   ]
  },
  {
   "cell_type": "markdown",
   "metadata": {
    "id": "ePVgj2bSU1EZ"
   },
   "source": [
    "## 3-4. Equally weighted portfolio, stock market index  "
   ]
  },
  {
   "cell_type": "code",
   "execution_count": 12,
   "metadata": {
    "id": "proud-cricket"
   },
   "outputs": [
    {
     "ename": "SyntaxError",
     "evalue": "invalid syntax (<ipython-input-12-b7c357696869>, line 7)",
     "output_type": "error",
     "traceback": [
      "\u001b[1;36m  File \u001b[1;32m\"<ipython-input-12-b7c357696869>\"\u001b[1;36m, line \u001b[1;32m7\u001b[0m\n\u001b[1;33m    for i in range(len)\u001b[0m\n\u001b[1;37m                       ^\u001b[0m\n\u001b[1;31mSyntaxError\u001b[0m\u001b[1;31m:\u001b[0m invalid syntax\n"
     ]
    }
   ],
   "source": [
    "#equally weighted portfolio return\n",
    "sum_returns = 0\n",
    "for ticker in tickers:\n",
    "    sum_returns += stats['Mean'][ticker]\n",
    "    \n",
    "mean_balanced = sum_returns/len(tickers)\n",
    "for i in range(len)\n",
    "\n",
    "var_balanced = np.var(balanced_return) # std"
   ]
  },
  {
   "cell_type": "code",
   "execution_count": null,
   "metadata": {
    "id": "silent-episode",
    "outputId": "bcff9f71-3d88-4b14-89ca-62a17911bbe9"
   },
   "outputs": [],
   "source": [
    "stats.plot(x='Std', y='Mean', color=\"red\", kind=\"scatter\", label='All stonks')\n",
    "plt.scatter(stats['Std']['IXIC'], stats['Mean']['IXIC'], color=\"blue\", label='Market index')\n",
    "plt.scatter(var_balanced, mean_balanced, color=\"green\", label='Balanced portfolio')\n",
    "plt.legend()\n",
    "plt.show()"
   ]
  },
  {
   "cell_type": "markdown",
   "metadata": {
    "id": "6eJRRW5NV4IY"
   },
   "source": [
    "# 5. VaR"
   ]
  },
  {
   "cell_type": "code",
   "execution_count": null,
   "metadata": {
    "colab": {
     "base_uri": "https://localhost:8080/"
    },
    "id": "ahead-quilt",
    "outputId": "97a569ae-09df-4402-cdf0-0d04521ed005"
   },
   "outputs": [],
   "source": [
    "#VaR_gam = mu + sigma*U_gamma where U_gamma is Z-score? wtf\n",
    "\n",
    "gamma1 = 0.95\n",
    "gamma2 = 0.90\n",
    "\n",
    "gamma_quantile1 = scipy.stats.norm.ppf(gamma1) # percentage point function\n",
    "gamma_quantile2 = scipy.stats.norm.ppf(gamma2)\n",
    "\n",
    "z_score1, z_score2\n",
    "\n",
    "VaR1 = stats['Std']*gamma_quantile1 + stats['Mean']\n",
    "VaR2 = stats['Std']*gamma_quantile2 + stats['Mean']"
   ]
  },
  {
   "cell_type": "markdown",
   "metadata": {
    "id": "ihxHStIeZnyp"
   },
   "source": [
    "## 6. White noise"
   ]
  },
  {
   "cell_type": "markdown",
   "metadata": {
    "id": "RMLdWyXiZtjJ"
   },
   "source": [
    "## 7. "
   ]
  },
  {
   "cell_type": "markdown",
   "metadata": {
    "id": "iHULv6yeZt3E"
   },
   "source": [
    "## 8. "
   ]
  },
  {
   "cell_type": "markdown",
   "metadata": {
    "id": "JdcFS4h1ZuIC"
   },
   "source": []
  }
 ],
 "metadata": {
  "colab": {
   "collapsed_sections": [],
   "name": "lab1.ipynb",
   "provenance": []
  },
  "kernelspec": {
   "display_name": "Python 3",
   "language": "python",
   "name": "python3"
  },
  "language_info": {
   "codemirror_mode": {
    "name": "ipython",
    "version": 3
   },
   "file_extension": ".py",
   "mimetype": "text/x-python",
   "name": "python",
   "nbconvert_exporter": "python",
   "pygments_lexer": "ipython3",
   "version": "3.8.3"
  }
 },
 "nbformat": 4,
 "nbformat_minor": 5
}
